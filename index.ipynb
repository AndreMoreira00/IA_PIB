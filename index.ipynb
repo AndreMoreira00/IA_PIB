{
 "cells": [
  {
   "cell_type": "code",
   "execution_count": 40,
   "metadata": {},
   "outputs": [],
   "source": [
    "import pandas as pd \n",
    "import numpy as np \n",
    "from sklearn.model_selection import train_test_split\n",
    "from sklearn.naive_bayes import GaussianNB\n",
    "from sklearn.metrics import pairwise_distances"
   ]
  },
  {
   "cell_type": "code",
   "execution_count": 41,
   "metadata": {},
   "outputs": [],
   "source": [
    "base_pib = pd.read_csv('brasil_antigo.csv')"
   ]
  },
  {
   "cell_type": "code",
   "execution_count": 42,
   "metadata": {},
   "outputs": [
    {
     "data": {
      "text/html": [
       "<div>\n",
       "<style scoped>\n",
       "    .dataframe tbody tr th:only-of-type {\n",
       "        vertical-align: middle;\n",
       "    }\n",
       "\n",
       "    .dataframe tbody tr th {\n",
       "        vertical-align: top;\n",
       "    }\n",
       "\n",
       "    .dataframe thead th {\n",
       "        text-align: right;\n",
       "    }\n",
       "</style>\n",
       "<table border=\"1\" class=\"dataframe\">\n",
       "  <thead>\n",
       "    <tr style=\"text-align: right;\">\n",
       "      <th></th>\n",
       "      <th>ano</th>\n",
       "      <th>pib</th>\n",
       "      <th>impostos_liquidos</th>\n",
       "      <th>va</th>\n",
       "      <th>va_agropecuaria</th>\n",
       "      <th>va_industria</th>\n",
       "      <th>va_servicos</th>\n",
       "      <th>va_adespss</th>\n",
       "    </tr>\n",
       "  </thead>\n",
       "  <tbody>\n",
       "    <tr>\n",
       "      <th>0</th>\n",
       "      <td>1999</td>\n",
       "      <td>1064999712000</td>\n",
       "      <td>137161505000</td>\n",
       "      <td>927838207000</td>\n",
       "      <td>50782029000</td>\n",
       "      <td>240734966000</td>\n",
       "      <td>636321212000</td>\n",
       "      <td>141462000000</td>\n",
       "    </tr>\n",
       "    <tr>\n",
       "      <th>1</th>\n",
       "      <td>2000</td>\n",
       "      <td>1179482000000</td>\n",
       "      <td>157834000000</td>\n",
       "      <td>1021648000000</td>\n",
       "      <td>57241000000</td>\n",
       "      <td>283321000000</td>\n",
       "      <td>681086000000</td>\n",
       "      <td>152521000000</td>\n",
       "    </tr>\n",
       "    <tr>\n",
       "      <th>2</th>\n",
       "      <td>2001</td>\n",
       "      <td>1302135029000</td>\n",
       "      <td>183522029000</td>\n",
       "      <td>1118613000000</td>\n",
       "      <td>66819000000</td>\n",
       "      <td>301171000000</td>\n",
       "      <td>750623000000</td>\n",
       "      <td>173568000000</td>\n",
       "    </tr>\n",
       "    <tr>\n",
       "      <th>3</th>\n",
       "      <td>2002</td>\n",
       "      <td>1477821769000</td>\n",
       "      <td>204692769000</td>\n",
       "      <td>1273129000000</td>\n",
       "      <td>84251000000</td>\n",
       "      <td>344406000000</td>\n",
       "      <td>844472000000</td>\n",
       "      <td>197728000000</td>\n",
       "    </tr>\n",
       "    <tr>\n",
       "      <th>4</th>\n",
       "      <td>2003</td>\n",
       "      <td>1699947694000</td>\n",
       "      <td>229333694000</td>\n",
       "      <td>1470614000000</td>\n",
       "      <td>108619000000</td>\n",
       "      <td>409504000000</td>\n",
       "      <td>952491000000</td>\n",
       "      <td>222277000000</td>\n",
       "    </tr>\n",
       "    <tr>\n",
       "      <th>5</th>\n",
       "      <td>2004</td>\n",
       "      <td>1941498358000</td>\n",
       "      <td>275240358000</td>\n",
       "      <td>1666258000000</td>\n",
       "      <td>115194000000</td>\n",
       "      <td>501771000000</td>\n",
       "      <td>1049293000000</td>\n",
       "      <td>244427000000</td>\n",
       "    </tr>\n",
       "    <tr>\n",
       "      <th>6</th>\n",
       "      <td>2005</td>\n",
       "      <td>2147239292000</td>\n",
       "      <td>304986292000</td>\n",
       "      <td>1842253000000</td>\n",
       "      <td>105163000000</td>\n",
       "      <td>539283000000</td>\n",
       "      <td>1197807000000</td>\n",
       "      <td>277196000000</td>\n",
       "    </tr>\n",
       "    <tr>\n",
       "      <th>7</th>\n",
       "      <td>2006</td>\n",
       "      <td>2369483546000</td>\n",
       "      <td>335062546000</td>\n",
       "      <td>2034421000000</td>\n",
       "      <td>111566000000</td>\n",
       "      <td>584952000000</td>\n",
       "      <td>1337903000000</td>\n",
       "      <td>311381000000</td>\n",
       "    </tr>\n",
       "    <tr>\n",
       "      <th>8</th>\n",
       "      <td>2007</td>\n",
       "      <td>2661344525000</td>\n",
       "      <td>373486525000</td>\n",
       "      <td>2287858000000</td>\n",
       "      <td>127267000000</td>\n",
       "      <td>636280000000</td>\n",
       "      <td>1524311000000</td>\n",
       "      <td>353723000000</td>\n",
       "    </tr>\n",
       "    <tr>\n",
       "      <th>9</th>\n",
       "      <td>2008</td>\n",
       "      <td>3032203490000</td>\n",
       "      <td>451754490000</td>\n",
       "      <td>2580449000000</td>\n",
       "      <td>152612000000</td>\n",
       "      <td>719987000000</td>\n",
       "      <td>1707850000000</td>\n",
       "      <td>406958000000</td>\n",
       "    </tr>\n",
       "    <tr>\n",
       "      <th>10</th>\n",
       "      <td>2009</td>\n",
       "      <td>3239404053000</td>\n",
       "      <td>445025053000</td>\n",
       "      <td>2794379000000</td>\n",
       "      <td>157232000000</td>\n",
       "      <td>749699000000</td>\n",
       "      <td>1887448000000</td>\n",
       "      <td>456426000000</td>\n",
       "    </tr>\n",
       "    <tr>\n",
       "      <th>11</th>\n",
       "      <td>2010</td>\n",
       "      <td>3770084872000</td>\n",
       "      <td>542904205000</td>\n",
       "      <td>3227180667000</td>\n",
       "      <td>171177392000</td>\n",
       "      <td>905852191000</td>\n",
       "      <td>2150151084000</td>\n",
       "      <td>522776783000</td>\n",
       "    </tr>\n",
       "    <tr>\n",
       "      <th>12</th>\n",
       "      <td>2011</td>\n",
       "      <td>4143013337000</td>\n",
       "      <td>612141853000</td>\n",
       "      <td>3530871484000</td>\n",
       "      <td>192653395000</td>\n",
       "      <td>972156032000</td>\n",
       "      <td>2366062057000</td>\n",
       "      <td>576541460000</td>\n",
       "    </tr>\n",
       "    <tr>\n",
       "      <th>13</th>\n",
       "      <td>2012</td>\n",
       "      <td>4392093997000</td>\n",
       "      <td>667024541000</td>\n",
       "      <td>3725069456000</td>\n",
       "      <td>198137110000</td>\n",
       "      <td>969233841000</td>\n",
       "      <td>2557698505000</td>\n",
       "      <td>618463710000</td>\n",
       "    </tr>\n",
       "  </tbody>\n",
       "</table>\n",
       "</div>"
      ],
      "text/plain": [
       "     ano            pib  impostos_liquidos             va  va_agropecuaria   \n",
       "0   1999  1064999712000       137161505000   927838207000      50782029000  \\\n",
       "1   2000  1179482000000       157834000000  1021648000000      57241000000   \n",
       "2   2001  1302135029000       183522029000  1118613000000      66819000000   \n",
       "3   2002  1477821769000       204692769000  1273129000000      84251000000   \n",
       "4   2003  1699947694000       229333694000  1470614000000     108619000000   \n",
       "5   2004  1941498358000       275240358000  1666258000000     115194000000   \n",
       "6   2005  2147239292000       304986292000  1842253000000     105163000000   \n",
       "7   2006  2369483546000       335062546000  2034421000000     111566000000   \n",
       "8   2007  2661344525000       373486525000  2287858000000     127267000000   \n",
       "9   2008  3032203490000       451754490000  2580449000000     152612000000   \n",
       "10  2009  3239404053000       445025053000  2794379000000     157232000000   \n",
       "11  2010  3770084872000       542904205000  3227180667000     171177392000   \n",
       "12  2011  4143013337000       612141853000  3530871484000     192653395000   \n",
       "13  2012  4392093997000       667024541000  3725069456000     198137110000   \n",
       "\n",
       "    va_industria    va_servicos    va_adespss  \n",
       "0   240734966000   636321212000  141462000000  \n",
       "1   283321000000   681086000000  152521000000  \n",
       "2   301171000000   750623000000  173568000000  \n",
       "3   344406000000   844472000000  197728000000  \n",
       "4   409504000000   952491000000  222277000000  \n",
       "5   501771000000  1049293000000  244427000000  \n",
       "6   539283000000  1197807000000  277196000000  \n",
       "7   584952000000  1337903000000  311381000000  \n",
       "8   636280000000  1524311000000  353723000000  \n",
       "9   719987000000  1707850000000  406958000000  \n",
       "10  749699000000  1887448000000  456426000000  \n",
       "11  905852191000  2150151084000  522776783000  \n",
       "12  972156032000  2366062057000  576541460000  \n",
       "13  969233841000  2557698505000  618463710000  "
      ]
     },
     "execution_count": 42,
     "metadata": {},
     "output_type": "execute_result"
    }
   ],
   "source": [
    "base_pib"
   ]
  },
  {
   "cell_type": "code",
   "execution_count": 43,
   "metadata": {},
   "outputs": [
    {
     "data": {
      "text/html": [
       "<div>\n",
       "<style scoped>\n",
       "    .dataframe tbody tr th:only-of-type {\n",
       "        vertical-align: middle;\n",
       "    }\n",
       "\n",
       "    .dataframe tbody tr th {\n",
       "        vertical-align: top;\n",
       "    }\n",
       "\n",
       "    .dataframe thead th {\n",
       "        text-align: right;\n",
       "    }\n",
       "</style>\n",
       "<table border=\"1\" class=\"dataframe\">\n",
       "  <thead>\n",
       "    <tr style=\"text-align: right;\">\n",
       "      <th></th>\n",
       "      <th>ano</th>\n",
       "      <th>pib</th>\n",
       "      <th>impostos_liquidos</th>\n",
       "      <th>va</th>\n",
       "      <th>va_agropecuaria</th>\n",
       "      <th>va_industria</th>\n",
       "      <th>va_servicos</th>\n",
       "      <th>va_adespss</th>\n",
       "    </tr>\n",
       "  </thead>\n",
       "  <tbody>\n",
       "    <tr>\n",
       "      <th>count</th>\n",
       "      <td>14.0000</td>\n",
       "      <td>1.400000e+01</td>\n",
       "      <td>1.400000e+01</td>\n",
       "      <td>1.400000e+01</td>\n",
       "      <td>1.400000e+01</td>\n",
       "      <td>1.400000e+01</td>\n",
       "      <td>1.400000e+01</td>\n",
       "      <td>1.400000e+01</td>\n",
       "    </tr>\n",
       "    <tr>\n",
       "      <th>mean</th>\n",
       "      <td>2005.5000</td>\n",
       "      <td>2.458625e+12</td>\n",
       "      <td>3.514407e+11</td>\n",
       "      <td>2.107184e+12</td>\n",
       "      <td>1.213367e+11</td>\n",
       "      <td>5.827394e+11</td>\n",
       "      <td>1.403108e+12</td>\n",
       "      <td>3.325321e+11</td>\n",
       "    </tr>\n",
       "    <tr>\n",
       "      <th>std</th>\n",
       "      <td>4.1833</td>\n",
       "      <td>1.112892e+12</td>\n",
       "      <td>1.709244e+11</td>\n",
       "      <td>9.423774e+11</td>\n",
       "      <td>4.784633e+10</td>\n",
       "      <td>2.536148e+11</td>\n",
       "      <td>6.434466e+11</td>\n",
       "      <td>1.604345e+11</td>\n",
       "    </tr>\n",
       "    <tr>\n",
       "      <th>min</th>\n",
       "      <td>1999.0000</td>\n",
       "      <td>1.065000e+12</td>\n",
       "      <td>1.371615e+11</td>\n",
       "      <td>9.278382e+11</td>\n",
       "      <td>5.078203e+10</td>\n",
       "      <td>2.407350e+11</td>\n",
       "      <td>6.363212e+11</td>\n",
       "      <td>1.414620e+11</td>\n",
       "    </tr>\n",
       "    <tr>\n",
       "      <th>25%</th>\n",
       "      <td>2002.2500</td>\n",
       "      <td>1.533353e+12</td>\n",
       "      <td>2.108530e+11</td>\n",
       "      <td>1.322500e+12</td>\n",
       "      <td>8.947900e+10</td>\n",
       "      <td>3.606805e+11</td>\n",
       "      <td>8.714768e+11</td>\n",
       "      <td>2.038652e+11</td>\n",
       "    </tr>\n",
       "    <tr>\n",
       "      <th>50%</th>\n",
       "      <td>2005.5000</td>\n",
       "      <td>2.258361e+12</td>\n",
       "      <td>3.200244e+11</td>\n",
       "      <td>1.938337e+12</td>\n",
       "      <td>1.133800e+11</td>\n",
       "      <td>5.621175e+11</td>\n",
       "      <td>1.267855e+12</td>\n",
       "      <td>2.942885e+11</td>\n",
       "    </tr>\n",
       "    <tr>\n",
       "      <th>75%</th>\n",
       "      <td>2008.7500</td>\n",
       "      <td>3.187604e+12</td>\n",
       "      <td>4.500721e+11</td>\n",
       "      <td>2.740896e+12</td>\n",
       "      <td>1.560770e+11</td>\n",
       "      <td>7.422710e+11</td>\n",
       "      <td>1.842548e+12</td>\n",
       "      <td>4.440590e+11</td>\n",
       "    </tr>\n",
       "    <tr>\n",
       "      <th>max</th>\n",
       "      <td>2012.0000</td>\n",
       "      <td>4.392094e+12</td>\n",
       "      <td>6.670245e+11</td>\n",
       "      <td>3.725069e+12</td>\n",
       "      <td>1.981371e+11</td>\n",
       "      <td>9.721560e+11</td>\n",
       "      <td>2.557699e+12</td>\n",
       "      <td>6.184637e+11</td>\n",
       "    </tr>\n",
       "  </tbody>\n",
       "</table>\n",
       "</div>"
      ],
      "text/plain": [
       "             ano           pib  impostos_liquidos            va   \n",
       "count    14.0000  1.400000e+01       1.400000e+01  1.400000e+01  \\\n",
       "mean   2005.5000  2.458625e+12       3.514407e+11  2.107184e+12   \n",
       "std       4.1833  1.112892e+12       1.709244e+11  9.423774e+11   \n",
       "min    1999.0000  1.065000e+12       1.371615e+11  9.278382e+11   \n",
       "25%    2002.2500  1.533353e+12       2.108530e+11  1.322500e+12   \n",
       "50%    2005.5000  2.258361e+12       3.200244e+11  1.938337e+12   \n",
       "75%    2008.7500  3.187604e+12       4.500721e+11  2.740896e+12   \n",
       "max    2012.0000  4.392094e+12       6.670245e+11  3.725069e+12   \n",
       "\n",
       "       va_agropecuaria  va_industria   va_servicos    va_adespss  \n",
       "count     1.400000e+01  1.400000e+01  1.400000e+01  1.400000e+01  \n",
       "mean      1.213367e+11  5.827394e+11  1.403108e+12  3.325321e+11  \n",
       "std       4.784633e+10  2.536148e+11  6.434466e+11  1.604345e+11  \n",
       "min       5.078203e+10  2.407350e+11  6.363212e+11  1.414620e+11  \n",
       "25%       8.947900e+10  3.606805e+11  8.714768e+11  2.038652e+11  \n",
       "50%       1.133800e+11  5.621175e+11  1.267855e+12  2.942885e+11  \n",
       "75%       1.560770e+11  7.422710e+11  1.842548e+12  4.440590e+11  \n",
       "max       1.981371e+11  9.721560e+11  2.557699e+12  6.184637e+11  "
      ]
     },
     "execution_count": 43,
     "metadata": {},
     "output_type": "execute_result"
    }
   ],
   "source": [
    "base_pib.describe()"
   ]
  },
  {
   "cell_type": "code",
   "execution_count": 44,
   "metadata": {},
   "outputs": [
    {
     "data": {
      "text/plain": [
       "ano                  0\n",
       "pib                  0\n",
       "impostos_liquidos    0\n",
       "va                   0\n",
       "va_agropecuaria      0\n",
       "va_industria         0\n",
       "va_servicos          0\n",
       "va_adespss           0\n",
       "dtype: int64"
      ]
     },
     "execution_count": 44,
     "metadata": {},
     "output_type": "execute_result"
    }
   ],
   "source": [
    "base_pib.isnull().sum()"
   ]
  },
  {
   "cell_type": "code",
   "execution_count": 45,
   "metadata": {},
   "outputs": [],
   "source": [
    "x_pib = base_pib.iloc[:, 2:].values"
   ]
  },
  {
   "cell_type": "code",
   "execution_count": 46,
   "metadata": {},
   "outputs": [
    {
     "data": {
      "text/plain": [
       "numpy.ndarray"
      ]
     },
     "execution_count": 46,
     "metadata": {},
     "output_type": "execute_result"
    }
   ],
   "source": [
    "type(x_pib)"
   ]
  },
  {
   "cell_type": "code",
   "execution_count": 47,
   "metadata": {},
   "outputs": [],
   "source": [
    "y_pib = base_pib.iloc[:, 1].values"
   ]
  },
  {
   "cell_type": "code",
   "execution_count": 48,
   "metadata": {},
   "outputs": [],
   "source": [
    "x_treinamento, x_teste, y_treinamento, y_teste = train_test_split(x_pib, y_pib, test_size=0.25, random_state=0)"
   ]
  },
  {
   "cell_type": "code",
   "execution_count": 49,
   "metadata": {},
   "outputs": [
    {
     "data": {
      "text/html": [
       "<style>#sk-container-id-2 {color: black;background-color: white;}#sk-container-id-2 pre{padding: 0;}#sk-container-id-2 div.sk-toggleable {background-color: white;}#sk-container-id-2 label.sk-toggleable__label {cursor: pointer;display: block;width: 100%;margin-bottom: 0;padding: 0.3em;box-sizing: border-box;text-align: center;}#sk-container-id-2 label.sk-toggleable__label-arrow:before {content: \"▸\";float: left;margin-right: 0.25em;color: #696969;}#sk-container-id-2 label.sk-toggleable__label-arrow:hover:before {color: black;}#sk-container-id-2 div.sk-estimator:hover label.sk-toggleable__label-arrow:before {color: black;}#sk-container-id-2 div.sk-toggleable__content {max-height: 0;max-width: 0;overflow: hidden;text-align: left;background-color: #f0f8ff;}#sk-container-id-2 div.sk-toggleable__content pre {margin: 0.2em;color: black;border-radius: 0.25em;background-color: #f0f8ff;}#sk-container-id-2 input.sk-toggleable__control:checked~div.sk-toggleable__content {max-height: 200px;max-width: 100%;overflow: auto;}#sk-container-id-2 input.sk-toggleable__control:checked~label.sk-toggleable__label-arrow:before {content: \"▾\";}#sk-container-id-2 div.sk-estimator input.sk-toggleable__control:checked~label.sk-toggleable__label {background-color: #d4ebff;}#sk-container-id-2 div.sk-label input.sk-toggleable__control:checked~label.sk-toggleable__label {background-color: #d4ebff;}#sk-container-id-2 input.sk-hidden--visually {border: 0;clip: rect(1px 1px 1px 1px);clip: rect(1px, 1px, 1px, 1px);height: 1px;margin: -1px;overflow: hidden;padding: 0;position: absolute;width: 1px;}#sk-container-id-2 div.sk-estimator {font-family: monospace;background-color: #f0f8ff;border: 1px dotted black;border-radius: 0.25em;box-sizing: border-box;margin-bottom: 0.5em;}#sk-container-id-2 div.sk-estimator:hover {background-color: #d4ebff;}#sk-container-id-2 div.sk-parallel-item::after {content: \"\";width: 100%;border-bottom: 1px solid gray;flex-grow: 1;}#sk-container-id-2 div.sk-label:hover label.sk-toggleable__label {background-color: #d4ebff;}#sk-container-id-2 div.sk-serial::before {content: \"\";position: absolute;border-left: 1px solid gray;box-sizing: border-box;top: 0;bottom: 0;left: 50%;z-index: 0;}#sk-container-id-2 div.sk-serial {display: flex;flex-direction: column;align-items: center;background-color: white;padding-right: 0.2em;padding-left: 0.2em;position: relative;}#sk-container-id-2 div.sk-item {position: relative;z-index: 1;}#sk-container-id-2 div.sk-parallel {display: flex;align-items: stretch;justify-content: center;background-color: white;position: relative;}#sk-container-id-2 div.sk-item::before, #sk-container-id-2 div.sk-parallel-item::before {content: \"\";position: absolute;border-left: 1px solid gray;box-sizing: border-box;top: 0;bottom: 0;left: 50%;z-index: -1;}#sk-container-id-2 div.sk-parallel-item {display: flex;flex-direction: column;z-index: 1;position: relative;background-color: white;}#sk-container-id-2 div.sk-parallel-item:first-child::after {align-self: flex-end;width: 50%;}#sk-container-id-2 div.sk-parallel-item:last-child::after {align-self: flex-start;width: 50%;}#sk-container-id-2 div.sk-parallel-item:only-child::after {width: 0;}#sk-container-id-2 div.sk-dashed-wrapped {border: 1px dashed gray;margin: 0 0.4em 0.5em 0.4em;box-sizing: border-box;padding-bottom: 0.4em;background-color: white;}#sk-container-id-2 div.sk-label label {font-family: monospace;font-weight: bold;display: inline-block;line-height: 1.2em;}#sk-container-id-2 div.sk-label-container {text-align: center;}#sk-container-id-2 div.sk-container {/* jupyter's `normalize.less` sets `[hidden] { display: none; }` but bootstrap.min.css set `[hidden] { display: none !important; }` so we also need the `!important` here to be able to override the default hidden behavior on the sphinx rendered scikit-learn.org. See: https://github.com/scikit-learn/scikit-learn/issues/21755 */display: inline-block !important;position: relative;}#sk-container-id-2 div.sk-text-repr-fallback {display: none;}</style><div id=\"sk-container-id-2\" class=\"sk-top-container\"><div class=\"sk-text-repr-fallback\"><pre>GaussianNB()</pre><b>In a Jupyter environment, please rerun this cell to show the HTML representation or trust the notebook. <br />On GitHub, the HTML representation is unable to render, please try loading this page with nbviewer.org.</b></div><div class=\"sk-container\" hidden><div class=\"sk-item\"><div class=\"sk-estimator sk-toggleable\"><input class=\"sk-toggleable__control sk-hidden--visually\" id=\"sk-estimator-id-2\" type=\"checkbox\" checked><label for=\"sk-estimator-id-2\" class=\"sk-toggleable__label sk-toggleable__label-arrow\">GaussianNB</label><div class=\"sk-toggleable__content\"><pre>GaussianNB()</pre></div></div></div></div></div>"
      ],
      "text/plain": [
       "GaussianNB()"
      ]
     },
     "execution_count": 49,
     "metadata": {},
     "output_type": "execute_result"
    }
   ],
   "source": [
    "naive_pib = GaussianNB()\n",
    "naive_pib.fit(x_treinamento, y_treinamento)"
   ]
  },
  {
   "cell_type": "code",
   "execution_count": 50,
   "metadata": {},
   "outputs": [],
   "source": [
    "previsoes = naive_pib.predict(x_teste)"
   ]
  },
  {
   "cell_type": "code",
   "execution_count": 51,
   "metadata": {},
   "outputs": [
    {
     "data": {
      "text/plain": [
       "array([2369483546000, 1941498358000, 1477821769000, 4143013337000],\n",
       "      dtype=int64)"
      ]
     },
     "execution_count": 51,
     "metadata": {},
     "output_type": "execute_result"
    }
   ],
   "source": [
    "previsoes"
   ]
  },
  {
   "cell_type": "code",
   "execution_count": 52,
   "metadata": {},
   "outputs": [
    {
     "data": {
      "text/plain": [
       "array([2661344525000, 2147239292000, 1699947694000, 3770084872000],\n",
       "      dtype=int64)"
      ]
     },
     "execution_count": 52,
     "metadata": {},
     "output_type": "execute_result"
    }
   ],
   "source": [
    "y_teste"
   ]
  },
  {
   "cell_type": "code",
   "execution_count": 62,
   "metadata": {},
   "outputs": [
    {
     "data": {
      "text/plain": [
       "-2.414050007710882e+18"
      ]
     },
     "execution_count": 62,
     "metadata": {},
     "output_type": "execute_result"
    }
   ],
   "source": [
    "from sklearn.metrics import mean_squared_error\n",
    "\n",
    "mean_squared_error(y_teste, previsoes)"
   ]
  },
  {
   "cell_type": "code",
   "execution_count": 63,
   "metadata": {},
   "outputs": [
    {
     "data": {
      "text/plain": [
       "273164075750.0"
      ]
     },
     "execution_count": 63,
     "metadata": {},
     "output_type": "execute_result"
    }
   ],
   "source": [
    "from sklearn.metrics import mean_absolute_error\n",
    "\n",
    "mean_absolute_error(y_teste, previsoes)"
   ]
  },
  {
   "cell_type": "code",
   "execution_count": 65,
   "metadata": {},
   "outputs": [
    {
     "data": {
      "text/plain": [
       "0.10876683769092067"
      ]
     },
     "execution_count": 65,
     "metadata": {},
     "output_type": "execute_result"
    }
   ],
   "source": [
    "from sklearn.metrics import mean_absolute_percentage_error\n",
    "\n",
    "mean_absolute_percentage_error(y_teste, previsoes)"
   ]
  },
  {
   "cell_type": "code",
   "execution_count": null,
   "metadata": {},
   "outputs": [],
   "source": []
  }
 ],
 "metadata": {
  "kernelspec": {
   "display_name": "Python 3",
   "language": "python",
   "name": "python3"
  },
  "language_info": {
   "codemirror_mode": {
    "name": "ipython",
    "version": 3
   },
   "file_extension": ".py",
   "mimetype": "text/x-python",
   "name": "python",
   "nbconvert_exporter": "python",
   "pygments_lexer": "ipython3",
   "version": "3.9.7"
  }
 },
 "nbformat": 4,
 "nbformat_minor": 2
}
